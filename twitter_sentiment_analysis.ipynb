{
 "cells": [
  {
   "cell_type": "code",
   "execution_count": 2,
   "metadata": {},
   "outputs": [
    {
     "name": "stderr",
     "output_type": "stream",
     "text": [
      "C:\\Users\\harkum\\AppData\\Local\\Temp\\ipykernel_30732\\2669341784.py:1: DeprecationWarning: \n",
      "Pyarrow will become a required dependency of pandas in the next major release of pandas (pandas 3.0),\n",
      "(to allow more performant data types, such as the Arrow string type, and better interoperability with other libraries)\n",
      "but was not found to be installed on your system.\n",
      "If this would cause problems for you,\n",
      "please provide us feedback at https://github.com/pandas-dev/pandas/issues/54466\n",
      "        \n",
      "  import pandas as pd\n"
     ]
    }
   ],
   "source": [
    "import pandas as pd \n",
    "import numpy as np \n",
    "import re \n",
    "import matplotlib.pyplot as plt \n",
    "import seaborn as sns \n",
    "import sklearn as sk\n",
    "from nltk.corpus import stopwords\n",
    "from nltk.stem.porter import PorterStemmer\n",
    "from sklearn.feature_extraction.text import TfidfTransformer, CountVectorizer\n",
    "from sklearn.model_selection import train_test_split\n",
    "from sklearn.linear_model import LogisticRegression\n",
    "from sklearn.metrics import accuracy_score\n"
   ]
  },
  {
   "cell_type": "code",
   "execution_count": 5,
   "metadata": {},
   "outputs": [],
   "source": [
    "tweets = pd.read_csv('training.1600000.processed.noemoticon.csv',encoding=\"ISO-8859-1\", names=['target','id','date','flag','user','text'])\n",
    "tweets.head()"
   ]
  },
  {
   "cell_type": "code",
   "execution_count": 6,
   "metadata": {},
   "outputs": [],
   "source": [
    "data = pd.read_csv(\"training.1600000.processed.noemoticon.csv\", encoding = \"ISO-8859-1\",engine='python',names=['label', 'time', 'date', 'query', 'username', 'text'])"
   ]
  },
  {
   "cell_type": "code",
   "execution_count": 3,
   "metadata": {},
   "outputs": [
    {
     "data": {
      "text/plain": [
       "Index(['target', 'id', 'date', 'flag', 'user', 'text'], dtype='object')"
      ]
     },
     "execution_count": 3,
     "metadata": {},
     "output_type": "execute_result"
    }
   ],
   "source": [
    "tweets.columns"
   ]
  },
  {
   "cell_type": "code",
   "execution_count": 4,
   "metadata": {},
   "outputs": [
    {
     "data": {
      "text/html": [
       "<div>\n",
       "<style scoped>\n",
       "    .dataframe tbody tr th:only-of-type {\n",
       "        vertical-align: middle;\n",
       "    }\n",
       "\n",
       "    .dataframe tbody tr th {\n",
       "        vertical-align: top;\n",
       "    }\n",
       "\n",
       "    .dataframe thead th {\n",
       "        text-align: right;\n",
       "    }\n",
       "</style>\n",
       "<table border=\"1\" class=\"dataframe\">\n",
       "  <thead>\n",
       "    <tr style=\"text-align: right;\">\n",
       "      <th></th>\n",
       "      <th>target</th>\n",
       "      <th>id</th>\n",
       "      <th>date</th>\n",
       "      <th>flag</th>\n",
       "      <th>user</th>\n",
       "      <th>text</th>\n",
       "    </tr>\n",
       "  </thead>\n",
       "  <tbody>\n",
       "    <tr>\n",
       "      <th>188709</th>\n",
       "      <td>0</td>\n",
       "      <td>1968933086</td>\n",
       "      <td>Fri May 29 22:34:57 PDT 2009</td>\n",
       "      <td>NO_QUERY</td>\n",
       "      <td>Mariell96</td>\n",
       "      <td>@tricia_4 ate!!!!! nakita ko nga ung magkasuno...</td>\n",
       "    </tr>\n",
       "    <tr>\n",
       "      <th>939460</th>\n",
       "      <td>4</td>\n",
       "      <td>1793682013</td>\n",
       "      <td>Thu May 14 03:37:11 PDT 2009</td>\n",
       "      <td>NO_QUERY</td>\n",
       "      <td>MichealAxelsen</td>\n",
       "      <td>@kissability LOL anyhoo, how about that traffi...</td>\n",
       "    </tr>\n",
       "    <tr>\n",
       "      <th>1099404</th>\n",
       "      <td>4</td>\n",
       "      <td>1970570898</td>\n",
       "      <td>Sat May 30 04:23:51 PDT 2009</td>\n",
       "      <td>NO_QUERY</td>\n",
       "      <td>amarska</td>\n",
       "      <td>enjoying national geographic again..</td>\n",
       "    </tr>\n",
       "    <tr>\n",
       "      <th>1405228</th>\n",
       "      <td>4</td>\n",
       "      <td>2055153971</td>\n",
       "      <td>Sat Jun 06 08:47:59 PDT 2009</td>\n",
       "      <td>NO_QUERY</td>\n",
       "      <td>BarbaraKB</td>\n",
       "      <td>@BeckyMcCray A week of fun w/son &amp;amp; then so...</td>\n",
       "    </tr>\n",
       "    <tr>\n",
       "      <th>748645</th>\n",
       "      <td>0</td>\n",
       "      <td>2284512750</td>\n",
       "      <td>Mon Jun 22 13:58:34 PDT 2009</td>\n",
       "      <td>NO_QUERY</td>\n",
       "      <td>AdrianRatcliffe</td>\n",
       "      <td>Settling down to watch BB.  Hope there's some ...</td>\n",
       "    </tr>\n",
       "    <tr>\n",
       "      <th>702054</th>\n",
       "      <td>0</td>\n",
       "      <td>2255276983</td>\n",
       "      <td>Sat Jun 20 11:01:27 PDT 2009</td>\n",
       "      <td>NO_QUERY</td>\n",
       "      <td>beewsee</td>\n",
       "      <td>@LaceySchwimmer Came out yesterday but you may...</td>\n",
       "    </tr>\n",
       "    <tr>\n",
       "      <th>1060020</th>\n",
       "      <td>4</td>\n",
       "      <td>1963354813</td>\n",
       "      <td>Fri May 29 12:35:50 PDT 2009</td>\n",
       "      <td>NO_QUERY</td>\n",
       "      <td>PauletteJaxton</td>\n",
       "      <td>@SVAllie Looks good, but somehow Cthulhu and p...</td>\n",
       "    </tr>\n",
       "    <tr>\n",
       "      <th>1125244</th>\n",
       "      <td>4</td>\n",
       "      <td>1974810318</td>\n",
       "      <td>Sat May 30 13:53:09 PDT 2009</td>\n",
       "      <td>NO_QUERY</td>\n",
       "      <td>maxamphoto</td>\n",
       "      <td>@jeffcrossphoto Thanks for the comment on my b...</td>\n",
       "    </tr>\n",
       "    <tr>\n",
       "      <th>522529</th>\n",
       "      <td>0</td>\n",
       "      <td>2192789508</td>\n",
       "      <td>Tue Jun 16 07:33:09 PDT 2009</td>\n",
       "      <td>NO_QUERY</td>\n",
       "      <td>blackc2004</td>\n",
       "      <td>got pulled over for my tinted windows this mor...</td>\n",
       "    </tr>\n",
       "    <tr>\n",
       "      <th>1492571</th>\n",
       "      <td>4</td>\n",
       "      <td>2069322995</td>\n",
       "      <td>Sun Jun 07 15:40:02 PDT 2009</td>\n",
       "      <td>NO_QUERY</td>\n",
       "      <td>MaschaD</td>\n",
       "      <td>@Dave_Annable good for u Dave sometimes u gott...</td>\n",
       "    </tr>\n",
       "  </tbody>\n",
       "</table>\n",
       "</div>"
      ],
      "text/plain": [
       "         target          id                          date      flag  \\\n",
       "188709        0  1968933086  Fri May 29 22:34:57 PDT 2009  NO_QUERY   \n",
       "939460        4  1793682013  Thu May 14 03:37:11 PDT 2009  NO_QUERY   \n",
       "1099404       4  1970570898  Sat May 30 04:23:51 PDT 2009  NO_QUERY   \n",
       "1405228       4  2055153971  Sat Jun 06 08:47:59 PDT 2009  NO_QUERY   \n",
       "748645        0  2284512750  Mon Jun 22 13:58:34 PDT 2009  NO_QUERY   \n",
       "702054        0  2255276983  Sat Jun 20 11:01:27 PDT 2009  NO_QUERY   \n",
       "1060020       4  1963354813  Fri May 29 12:35:50 PDT 2009  NO_QUERY   \n",
       "1125244       4  1974810318  Sat May 30 13:53:09 PDT 2009  NO_QUERY   \n",
       "522529        0  2192789508  Tue Jun 16 07:33:09 PDT 2009  NO_QUERY   \n",
       "1492571       4  2069322995  Sun Jun 07 15:40:02 PDT 2009  NO_QUERY   \n",
       "\n",
       "                    user                                               text  \n",
       "188709         Mariell96  @tricia_4 ate!!!!! nakita ko nga ung magkasuno...  \n",
       "939460    MichealAxelsen  @kissability LOL anyhoo, how about that traffi...  \n",
       "1099404          amarska              enjoying national geographic again..   \n",
       "1405228        BarbaraKB  @BeckyMcCray A week of fun w/son &amp; then so...  \n",
       "748645   AdrianRatcliffe  Settling down to watch BB.  Hope there's some ...  \n",
       "702054           beewsee  @LaceySchwimmer Came out yesterday but you may...  \n",
       "1060020   PauletteJaxton  @SVAllie Looks good, but somehow Cthulhu and p...  \n",
       "1125244       maxamphoto  @jeffcrossphoto Thanks for the comment on my b...  \n",
       "522529        blackc2004  got pulled over for my tinted windows this mor...  \n",
       "1492571          MaschaD  @Dave_Annable good for u Dave sometimes u gott...  "
      ]
     },
     "execution_count": 4,
     "metadata": {},
     "output_type": "execute_result"
    }
   ],
   "source": [
    "tweets.sample(10)"
   ]
  },
  {
   "cell_type": "code",
   "execution_count": 5,
   "metadata": {},
   "outputs": [
    {
     "name": "stdout",
     "output_type": "stream",
     "text": [
      "['i', 'me', 'my', 'myself', 'we', 'our', 'ours', 'ourselves', 'you', \"you're\", \"you've\", \"you'll\", \"you'd\", 'your', 'yours', 'yourself', 'yourselves', 'he', 'him', 'his', 'himself', 'she', \"she's\", 'her', 'hers', 'herself', 'it', \"it's\", 'its', 'itself', 'they', 'them', 'their', 'theirs', 'themselves', 'what', 'which', 'who', 'whom', 'this', 'that', \"that'll\", 'these', 'those', 'am', 'is', 'are', 'was', 'were', 'be', 'been', 'being', 'have', 'has', 'had', 'having', 'do', 'does', 'did', 'doing', 'a', 'an', 'the', 'and', 'but', 'if', 'or', 'because', 'as', 'until', 'while', 'of', 'at', 'by', 'for', 'with', 'about', 'against', 'between', 'into', 'through', 'during', 'before', 'after', 'above', 'below', 'to', 'from', 'up', 'down', 'in', 'out', 'on', 'off', 'over', 'under', 'again', 'further', 'then', 'once', 'here', 'there', 'when', 'where', 'why', 'how', 'all', 'any', 'both', 'each', 'few', 'more', 'most', 'other', 'some', 'such', 'no', 'nor', 'not', 'only', 'own', 'same', 'so', 'than', 'too', 'very', 's', 't', 'can', 'will', 'just', 'don', \"don't\", 'should', \"should've\", 'now', 'd', 'll', 'm', 'o', 're', 've', 'y', 'ain', 'aren', \"aren't\", 'couldn', \"couldn't\", 'didn', \"didn't\", 'doesn', \"doesn't\", 'hadn', \"hadn't\", 'hasn', \"hasn't\", 'haven', \"haven't\", 'isn', \"isn't\", 'ma', 'mightn', \"mightn't\", 'mustn', \"mustn't\", 'needn', \"needn't\", 'shan', \"shan't\", 'shouldn', \"shouldn't\", 'wasn', \"wasn't\", 'weren', \"weren't\", 'won', \"won't\", 'wouldn', \"wouldn't\"]\n"
     ]
    },
    {
     "name": "stderr",
     "output_type": "stream",
     "text": [
      "[nltk_data] Downloading package stopwords to\n",
      "[nltk_data]     C:\\Users\\harkum\\AppData\\Roaming\\nltk_data...\n",
      "[nltk_data]   Package stopwords is already up-to-date!\n"
     ]
    }
   ],
   "source": [
    "import nltk\n",
    "nltk.download('stopwords')\n",
    "print(stopwords.words('english'))"
   ]
  },
  {
   "cell_type": "code",
   "execution_count": 6,
   "metadata": {},
   "outputs": [
    {
     "data": {
      "text/plain": [
       "(1600000, 6)"
      ]
     },
     "execution_count": 6,
     "metadata": {},
     "output_type": "execute_result"
    }
   ],
   "source": [
    "tweets.shape"
   ]
  },
  {
   "cell_type": "code",
   "execution_count": 7,
   "metadata": {},
   "outputs": [
    {
     "data": {
      "text/plain": [
       "target    0\n",
       "id        0\n",
       "date      0\n",
       "flag      0\n",
       "user      0\n",
       "text      0\n",
       "dtype: int64"
      ]
     },
     "execution_count": 7,
     "metadata": {},
     "output_type": "execute_result"
    }
   ],
   "source": [
    "tweets.isnull().sum() # There are no missing values in the dataset "
   ]
  },
  {
   "cell_type": "code",
   "execution_count": 8,
   "metadata": {},
   "outputs": [],
   "source": [
    "tweets.target=tweets.target.apply(lambda x : 1 if x == 4 else x)"
   ]
  },
  {
   "cell_type": "code",
   "execution_count": 9,
   "metadata": {},
   "outputs": [
    {
     "data": {
      "text/plain": [
       "<Axes: title={'center': 'Tweets Distribution'}, xlabel='Tweets', ylabel='count'>"
      ]
     },
     "execution_count": 9,
     "metadata": {},
     "output_type": "execute_result"
    },
    {
     "data": {
      "image/png": "[encoded data removed]",
      "text/plain": [
       "<Figure size 640x480 with 1 Axes>"
      ]
     },
     "metadata": {},
     "output_type": "display_data"
    }
   ],
   "source": [
    "tweets.target.plot(kind='hist',title='Tweets Distribution',xlabel='Tweets' , ylabel='count')"
   ]
  },
  {
   "cell_type": "code",
   "execution_count": 10,
   "metadata": {},
   "outputs": [],
   "source": [
    "port_stem = PorterStemmer()"
   ]
  },
  {
   "cell_type": "code",
   "execution_count": 11,
   "metadata": {},
   "outputs": [],
   "source": [
    "short_tweets = tweets.iloc[:10000] # reduce the size of the data frame"
   ]
  },
  {
   "cell_type": "code",
   "execution_count": 12,
   "metadata": {},
   "outputs": [
    {
     "name": "stderr",
     "output_type": "stream",
     "text": [
      "C:\\Users\\harkum\\AppData\\Local\\Temp\\ipykernel_25872\\2628545536.py:1: SettingWithCopyWarning: \n",
      "A value is trying to be set on a copy of a slice from a DataFrame.\n",
      "Try using .loc[row_indexer,col_indexer] = value instead\n",
      "\n",
      "See the caveats in the documentation: https://pandas.pydata.org/pandas-docs/stable/user_guide/indexing.html#returning-a-view-versus-a-copy\n",
      "  short_tweets['stemed_text']=short_tweets.text.apply(lambda text : ' '.join([ port_stem.stem(word) for word in re.sub('[^a-zA-Z]',' ',text).lower().split() if word not in stopwords.words('english')]))\n"
     ]
    }
   ],
   "source": [
    "short_tweets['stemed_text']=short_tweets.text.apply(lambda text : ' '.join([ port_stem.stem(word) for word in re.sub('[^a-zA-Z]',' ',text).lower().split() if word not in stopwords.words('english')]))"
   ]
  },
  {
   "cell_type": "code",
   "execution_count": 13,
   "metadata": {},
   "outputs": [
    {
     "data": {
      "text/html": [
       "<div>\n",
       "<style scoped>\n",
       "    .dataframe tbody tr th:only-of-type {\n",
       "        vertical-align: middle;\n",
       "    }\n",
       "\n",
       "    .dataframe tbody tr th {\n",
       "        vertical-align: top;\n",
       "    }\n",
       "\n",
       "    .dataframe thead th {\n",
       "        text-align: right;\n",
       "    }\n",
       "</style>\n",
       "<table border=\"1\" class=\"dataframe\">\n",
       "  <thead>\n",
       "    <tr style=\"text-align: right;\">\n",
       "      <th></th>\n",
       "      <th>target</th>\n",
       "      <th>id</th>\n",
       "      <th>date</th>\n",
       "      <th>flag</th>\n",
       "      <th>user</th>\n",
       "      <th>text</th>\n",
       "      <th>stemed_text</th>\n",
       "    </tr>\n",
       "  </thead>\n",
       "  <tbody>\n",
       "    <tr>\n",
       "      <th>0</th>\n",
       "      <td>0</td>\n",
       "      <td>1467810369</td>\n",
       "      <td>Mon Apr 06 22:19:45 PDT 2009</td>\n",
       "      <td>NO_QUERY</td>\n",
       "      <td>_TheSpecialOne_</td>\n",
       "      <td>@switchfoot http://twitpic.com/2y1zl - Awww, t...</td>\n",
       "      <td>switchfoot http twitpic com zl awww bummer sho...</td>\n",
       "    </tr>\n",
       "    <tr>\n",
       "      <th>1</th>\n",
       "      <td>0</td>\n",
       "      <td>1467810672</td>\n",
       "      <td>Mon Apr 06 22:19:49 PDT 2009</td>\n",
       "      <td>NO_QUERY</td>\n",
       "      <td>scotthamilton</td>\n",
       "      <td>is upset that he can't update his Facebook by ...</td>\n",
       "      <td>upset updat facebook text might cri result sch...</td>\n",
       "    </tr>\n",
       "    <tr>\n",
       "      <th>2</th>\n",
       "      <td>0</td>\n",
       "      <td>1467810917</td>\n",
       "      <td>Mon Apr 06 22:19:53 PDT 2009</td>\n",
       "      <td>NO_QUERY</td>\n",
       "      <td>mattycus</td>\n",
       "      <td>@Kenichan I dived many times for the ball. Man...</td>\n",
       "      <td>kenichan dive mani time ball manag save rest g...</td>\n",
       "    </tr>\n",
       "    <tr>\n",
       "      <th>3</th>\n",
       "      <td>0</td>\n",
       "      <td>1467811184</td>\n",
       "      <td>Mon Apr 06 22:19:57 PDT 2009</td>\n",
       "      <td>NO_QUERY</td>\n",
       "      <td>ElleCTF</td>\n",
       "      <td>my whole body feels itchy and like its on fire</td>\n",
       "      <td>whole bodi feel itchi like fire</td>\n",
       "    </tr>\n",
       "    <tr>\n",
       "      <th>4</th>\n",
       "      <td>0</td>\n",
       "      <td>1467811193</td>\n",
       "      <td>Mon Apr 06 22:19:57 PDT 2009</td>\n",
       "      <td>NO_QUERY</td>\n",
       "      <td>Karoli</td>\n",
       "      <td>@nationwideclass no, it's not behaving at all....</td>\n",
       "      <td>nationwideclass behav mad see</td>\n",
       "    </tr>\n",
       "  </tbody>\n",
       "</table>\n",
       "</div>"
      ],
      "text/plain": [
       "   target          id                          date      flag  \\\n",
       "0       0  1467810369  Mon Apr 06 22:19:45 PDT 2009  NO_QUERY   \n",
       "1       0  1467810672  Mon Apr 06 22:19:49 PDT 2009  NO_QUERY   \n",
       "2       0  1467810917  Mon Apr 06 22:19:53 PDT 2009  NO_QUERY   \n",
       "3       0  1467811184  Mon Apr 06 22:19:57 PDT 2009  NO_QUERY   \n",
       "4       0  1467811193  Mon Apr 06 22:19:57 PDT 2009  NO_QUERY   \n",
       "\n",
       "              user                                               text  \\\n",
       "0  _TheSpecialOne_  @switchfoot http://twitpic.com/2y1zl - Awww, t...   \n",
       "1    scotthamilton  is upset that he can't update his Facebook by ...   \n",
       "2         mattycus  @Kenichan I dived many times for the ball. Man...   \n",
       "3          ElleCTF    my whole body feels itchy and like its on fire    \n",
       "4           Karoli  @nationwideclass no, it's not behaving at all....   \n",
       "\n",
       "                                         stemed_text  \n",
       "0  switchfoot http twitpic com zl awww bummer sho...  \n",
       "1  upset updat facebook text might cri result sch...  \n",
       "2  kenichan dive mani time ball manag save rest g...  \n",
       "3                    whole bodi feel itchi like fire  \n",
       "4                      nationwideclass behav mad see  "
      ]
     },
     "execution_count": 13,
     "metadata": {},
     "output_type": "execute_result"
    }
   ],
   "source": [
    "short_tweets.head()"
   ]
  },
  {
   "cell_type": "code",
   "execution_count": 14,
   "metadata": {},
   "outputs": [],
   "source": [
    "# from textblob import TextBlob\n",
    "# short_tweets.stemed_text.apply( lambda text : ' '.join([ TextBlob(word).correct() for word in text.split() ]))"
   ]
  },
  {
   "cell_type": "code",
   "execution_count": 39,
   "metadata": {},
   "outputs": [],
   "source": [
    "# Seprate the data label \n",
    "X = short_tweets['stemed_text'].values\n",
    "y= short_tweets['target'].values"
   ]
  },
  {
   "cell_type": "code",
   "execution_count": 40,
   "metadata": {},
   "outputs": [],
   "source": [
    "X_train,X_test,y_train,y_test = train_test_split(X,y,test_size=0.2,stratify=y,random_state=2)"
   ]
  },
  {
   "cell_type": "code",
   "execution_count": 41,
   "metadata": {},
   "outputs": [],
   "source": [
    "# Convert the textual data to numerical data \n",
    "from sklearn.feature_extraction.text import TfidfVectorizer\n",
    "vectorizer = TfidfVectorizer()\n",
    "\n"
   ]
  },
  {
   "cell_type": "code",
   "execution_count": 42,
   "metadata": {},
   "outputs": [],
   "source": [
    "X_train = vectorizer.fit_transform(X_train)\n",
    "X_test = vectorizer.transform(X_test)"
   ]
  }
 ],
 "metadata": {
  "kernelspec": {
   "display_name": "env",
   "language": "python",
   "name": "python3"
  },
  "language_info": {
   "codemirror_mode": {
    "name": "ipython",
    "version": 3
   },
   "file_extension": ".py",
   "mimetype": "text/x-python",
   "name": "python",
   "nbconvert_exporter": "python",
   "pygments_lexer": "ipython3",
   "version": "3.11.5"
  }
 },
 "nbformat": 4,
 "nbformat_minor": 2
}
